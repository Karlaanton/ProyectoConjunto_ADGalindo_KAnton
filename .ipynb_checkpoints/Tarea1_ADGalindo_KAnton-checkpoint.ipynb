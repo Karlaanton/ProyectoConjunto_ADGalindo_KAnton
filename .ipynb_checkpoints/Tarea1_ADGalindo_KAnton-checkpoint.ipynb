{
 "cells": [
  {
   "cell_type": "markdown",
   "metadata": {},
   "source": [
    "<img style=\"float: left; margin: 30px 15px 15px 15px;\" src=\"https://pngimage.net/wp-content/uploads/2018/06/logo-iteso-png-5.png\" width=\"300\" height=\"500\" /> \n",
    "    \n",
    "    \n",
    "### <font color='navy'> Simulación de procesos financieros. \n",
    "\n",
    "**Nombres:** Ariadna Galindo, Karla Antón.\n",
    "\n",
    "**Fecha:** 11 de septiembre del 2020.\n",
    "\n",
    "**Expediente** : 718272, 714572.\n",
    "**Profesor:** Oscar David Jaramillo Zuluaga.\n",
    "\n",
    "# Tarea 1b: Clase 2"
   ]
  },
  {
   "cell_type": "markdown",
   "metadata": {},
   "source": [
    "Link al repositorio:https://github.com/ariadnagalindom/ProyectoConjunto_ADGalindo_KAnton"
   ]
  },
  {
   "cell_type": "markdown",
   "metadata": {},
   "source": [
    "# Tarea 1- git\n",
    "Este archivo contiene las pautas necesarias para crear el archivo conjunto en Github, usando los notebooks de Jupyter:\n",
    "\n",
    "1.  El archivo debe realizarse en parejas y sólo uno de los dos debe crear en su cuenta de *\"Github\"* un repositorio con el nombre **ProyectoConjunto\\_APELLIDO1\\_APELLIDO2**, a esta persona la llamaremos (ESTUDIANTE 1 ). El APELLIDO se debe de escribir (Iniciales del nombre y primer apellido), por ejemplo si yo creara el archivo lo debería de nombrar *ProyectoConjunto\\_ODJaramillo*. \n",
    "1.  Posteriormente, desde la cuenta del (ESTUDIANTE 2) 'aquel que no creó el repositorio anterior' ingresar al perfil del ESTUDIANTE 1 y en el repositorio creado en el paso 1, realizar un \"fork\" de este repositorio en su perfil, y además realizar los pasos en Gitkraken para hacer dicho repositorio \"Remoto (REMOTE)\" VER DICHO PROCEDIMIENTO EN LA CLASE **Clase2\\_GitTurorial2**.\n",
    "1.  Luego de realizados los pasos 1 y 2, el ESTUDIANTE 1 y ESTUDIANTE 2, desde su computador realizan un *clone* del repositorio creado en el numeral 1 en la carpeta que cada quién haya asignado para el curso en su PC. \n",
    "1.  Luego desde Jupyter el ESTUDIANTE 1, crear un nuevo ``notebook`` en el repositorio del paso 3. \n",
    "1.  En este nuevo notebook el ESTUDIANTE 1 y ESTUDIANTE 2, deben realizar una presentación describiendo sus expectativas del curso y la transcipción de la Figura 1 y Figura 2 respectivamente, haciendo uso de la sintaxis Markdown. Recuerden definir unas celdas donde cada usuario modificará el cuaderno de python para evitar futuros conflictos. \n",
    "\n",
    "**RECOMENDACIÓN:ANTES DE EMPEZAR A REALIZAR MUCHAS MODIFICACIONES DEL NOTEBOOK PRIMERO REALICEN CAMBIOS PEQUEÑOS EN EL ARCHIVO EN CONJUNTO Y VERIFIQUEN SI TANTO EL ``ESTUDIANTE 1`` COMO EL ``ESTUDIANTE 2``  RECIBEN LAS ACTUALIZACIONES QUE REALIZAN CADA UNO EN EL PROYECTO PARA VERIFICAR QUE EL REMOTE ESTUVO BIEN CONFIGURADO.**\n",
    ">Les recomiendo ver los siguientes enlaces para ver distintas funciones para escribir en markdown.\n",
    ">    - [Creador de tablas online](https://www.tablesgenerator.com/markdown_tables)\n",
    ">    - [Sintáxis markdown](https://joplinapp.org/markdown/)\n",
    "\n",
    "6. Cuando ya se encuentre el proyecto conjunto con la información del ESTUDIANTE 1 y ESTUDIANTE 2, el ``ESTUDIANTE 2`` el que no fue el creador del repositorio en github, debe de realizar un `pull request` con las modificaciones realizadas a el `ESTUDIANTE 1` para que éste realice un merge a la rama `master`, con las moficaciones propuestas por el `ESTUDIANTE 2`, TAL Y CÓMO SE REALIZÓ EN CLASE. (Recuerden que los pull request se generan en *Gitkraken* y se administran los comentarios o cambios propuestos por su compañero desde *Github* ''**ver Clase1\\_GitTurorial** para aclaración de dudas'' donde se explica el crear *branch y pull request*)"
   ]
  },
  {
   "cell_type": "markdown",
   "metadata": {},
   "source": [
    "**Ariadna Desirée Galindo Marín**\n",
    "\n",
    "*Expectativas del curso* \n",
    "\n",
    "En este curso espero mejorar en términos de mi programación para poder ser más eficiente, así como aprender nuevas técnicas que me sirvan en mi carrera. Recuperar los conocimientos de materias pasadas y ponerlas en práctica. "
   ]
  },
  {
   "cell_type": "markdown",
   "metadata": {},
   "source": [
    "**Figura 1**\n",
    "\n",
    "| i | x    | f(x)   |\n",
    "|---|------|--------|\n",
    "| 0 | -1   | 0.3678 |\n",
    "|<font color=red>1</font> | <font color=red>-0.5</font> | <font color=red>0.7788</font> |\n",
    "<font color=blue>2</font> | <font color=blue>0</font> | <font color=blue>1</font> |\n",
    "<font color=red>3</font> | <font color=red>0.5</font> | <font color=red>0.7788</font> |\n",
    "| 4 | 1    | 0.3678 |\n",
    "\n",
    "<p style='text-align: center;'> Cuadro 1: Tabla de valores de $f(x)$ </p>\n",
    "\n",
    "$$\\int_{-1}^{1} e^{-x^2} dx \\approx {0,5\\over 3}[f(-1) + f(1) + 4( \\color{Red}{f(-0,5) + f(0,5)} ) + 2\\color{blue}{f(0)} ] \\\\ \\approx {0,5\\over 3}[0,3678 + 0,3678 + 4( \\color{Red}{0,7788 + 0,7788} ) + 2\\cdot \\color{blue}{1} ] \\approx 1,4943 $$\n",
    "\n",
    "<p style='text-align: center;' > A modo de verificación, se calculará por software, el valor del área para $n=100$, un valor mucho más elevado al que se utilizó anteriormente. Si lo calculado previamente es correcto, se esperaría que sea próximo al valor presentado a continuación para ser una buena aproximación </p>\n",
    "\n",
    "\n",
    "$$\\int_{-1}^{1} e^{-x^2} dx \\approx 1.4936 $$"
   ]
  },
  {
   "cell_type": "markdown",
   "metadata": {},
   "source": [
    "** Karla Antón Vázquez **\n",
    "\n",
    "Expectativas del curso\n",
    "\n",
    "Espero que las clases sean prácticas y nos dejen conocimiento práctico y útil que podamos seguir utilizando a lo largo de la carrera. Me gustaría que la materia nos enseñara a profundidad sobre ciertos temas, los cuales son:\n",
    "* Programar de manera fluida en Python.\n",
    "* Utilizar la programación como un medio útil.\n",
    "* Simular el comportamiento de activos para predecir su comportamiento futuro."
   ]
  },
  {
   "cell_type": "markdown",
   "metadata": {},
   "source": [
    "** Figura 2 **\n",
    "\n",
    "| $i$             | 1   | 2   | 3   | 4   | 5 | 6 | 7  |\n",
    "|-----------------|-----|-----|-----|-----|---|---|----|\n",
    "| $$E_i(V)$$      | 12  | 10  | 24  | 12  | - | - | -  |\n",
    "| $$r_i(\\Omega)$$ | 0.1 | 0.5 | 0.2 | 0.5 | - | - | -  |\n",
    "| $$R_i(\\Omega)$$ | 25  | 40  | 16  | 20  | 9 | 4 | 20 |\n",
    "\n",
    "\n",
    "<font color= lightblue > Kemma y Vorst (1990) </font> muestran que las opciones asiáticas con media geométrica continua se pueden valuar con el mismo enfoque de las opciones plain vanilla; solo deben cambiar los parámetros de volatilidad $\\sigma$ por $\\sigma_a$, y el costo de acarreo $b$ por $b_A$. \n",
    "\n",
    "De acuerdo con Kemma y Vorst, las fórmulas para valuar una opción de compra y una opción de venta son:\n",
    "$$c\\approx S_t e^{(b_A-r)(T-t)}\\Phi(d_1)-Ke^{-r(T-t)}\\Phi(d_2),$$\n",
    "$$p\\approx Ke^{-r(T-t)}\\Phi(-d_2)-,S_t e^{(b_A-r)(T-t)}\\Phi(-d_1)$$\n",
    "con $d_1$ y $d_2$ dados por:\n",
    "$$d_1=\\frac{ln(S_t/K)+(b_A+1/2\\sigma_a^2)(T-t)}{\\sigma\\sqrt{T-t}}$$\n",
    "$$d_2=d_1-\\sigma_a\\sqrt{T-t}$$\n",
    "La función $\\Phi(d)$ es la función de distribución acumulada $E\\sim N(0,1)$. La volatilidad ajustada es igual a:\n",
    "$$\\sigma_a=\\frac{\\sigma}{\\sqrt{3}},$$\n",
    "mientras que el costo de acarreo ajustado es:\n",
    "$$b_A=\\frac{1}{2}\\left(v-\\frac{\\sigma^2}{6}\\right).$$"
   ]
  },
  {
   "cell_type": "markdown",
   "metadata": {},
   "source": []
  },
  {
   "cell_type": "markdown",
   "metadata": {},
   "source": []
  }
 ],
 "metadata": {
  "kernelspec": {
   "display_name": "Python 3",
   "language": "python",
   "name": "python3"
  },
  "language_info": {
   "codemirror_mode": {
    "name": "ipython",
    "version": 3
   },
   "file_extension": ".py",
   "mimetype": "text/x-python",
   "name": "python",
   "nbconvert_exporter": "python",
   "pygments_lexer": "ipython3",
   "version": "3.6.5"
  }
 },
 "nbformat": 4,
 "nbformat_minor": 4
}
